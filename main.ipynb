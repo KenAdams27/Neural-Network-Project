{
 "cells": [
  {
   "cell_type": "code",
   "execution_count": 1,
   "metadata": {},
   "outputs": [],
   "source": [
    "import numpy as np\n",
    "import pandas as pd\n",
    "from matplotlib import pyplot as plt \n"
   ]
  },
  {
   "cell_type": "code",
   "execution_count": 2,
   "metadata": {},
   "outputs": [],
   "source": [
    "data = pd.read_csv('train.csv')"
   ]
  },
  {
   "cell_type": "code",
   "execution_count": 3,
   "metadata": {},
   "outputs": [],
   "source": [
    "data=np.array(data)\n",
    "m,n=data.shape\n",
    "np.random.shuffle(data)\n",
    "\n",
    "data_dev=data[0:1000].T\n",
    "Y_dev=data_dev[0]\n",
    "X_dev=data_dev[1:n]\n",
    "X_dev=X_dev/255\n",
    "\n",
    "data_train=data[1000:m].T\n",
    "Y_train=data_train[0]\n",
    "X_train=data_train[1:n]\n",
    "X_train=X_train/255\n",
    "_,m_train=X_train.shape"
   ]
  },
  {
   "cell_type": "code",
   "execution_count": 5,
   "metadata": {},
   "outputs": [],
   "source": [
    "def init_params():\n",
    "    W1=np.random.rand(10,784)-0.5\n",
    "    b1=np.random.rand(10,1)-0.5\n",
    "    W2=np.random.rand(10,10)-0.5\n",
    "    b2=np.random.rand(10,1)-0.5\n",
    "    return W1,b1,W2,b2\n",
    "\n",
    "def ReLU(Z):\n",
    "    return np.maximum(0,Z)\n",
    "\n",
    "def softmax(A):\n",
    "    return np.exp(A)/sum(np.exp(A))\n",
    "\n",
    "def forward_prop(W1,b1,W2,b2,X):\n",
    "    Z1=W1.dot(X) + b1\n",
    "    A1=ReLU(Z1)\n",
    "    Z2=W2.dot(A1) + b2\n",
    "    A2=softmax(Z2)\n",
    "    return Z1,A1,Z2,A2\n",
    "\n",
    "def one_hot(Y):\n",
    "    one_hot_Y=np.zeros((Y.size,Y.max()+1))\n",
    "    one_hot_Y[np.arange(Y.size),Y]=1\n",
    "    one_hot_Y=one_hot_Y.T\n",
    "    return one_hot_Y\n",
    "\n",
    "def deriv_ReLU(Z):\n",
    "    return Z>0\n",
    "\n",
    "def backward_prop(Z1,A1,Z2,A2,W1,W2,X,Y):\n",
    "    m=Y.size\n",
    "    one_hot_Y=one_hot(Y)\n",
    "    dZ2=A2-one_hot_Y\n",
    "    dW2=1/m*dZ2.dot(A1.T)\n",
    "    db2=1/m*np.sum(dZ2)\n",
    "    dZ1=W2.T.dot(dZ2)*deriv_ReLU(Z1)\n",
    "    dW1=1/m*dZ1.dot(X.T)\n",
    "    db1=1/m*np.sum(dZ1)\n",
    "    return dW1,db1,dW2,db2\n",
    "\n",
    "def update_params(W1,b1,W2,b2,dW1,db1,dW2,db2,alpha):\n",
    "    W1=W1-alpha*dW1\n",
    "    b1=b1-alpha*db1\n",
    "    W2=W2-alpha*dW2\n",
    "    b2=b2-alpha*db2\n",
    "    return W1,b1,W2,b2\n",
    "\n"
   ]
  },
  {
   "cell_type": "code",
   "execution_count": 6,
   "metadata": {},
   "outputs": [],
   "source": [
    "def get_predictions(A2):\n",
    "    return np.argmax(A2,0)\n",
    "\n",
    "def get_accuracy(predictions,Y):\n",
    "    print(predictions,Y)\n",
    "    return np.sum(predictions == Y)/ Y.size\n",
    "\n",
    "def gradient_descent(X,Y,iterations,alpha):\n",
    "    W1,b1,W2,b2=init_params()\n",
    "    for i in range(iterations):\n",
    "        Z1,A1,Z2,A2=forward_prop(W1,b1,W2,b2,X)\n",
    "        dW1,db1,dW2,db2=backward_prop(Z1,A1,Z2,A2,W1,W2,X,Y)\n",
    "        W1,b1,W2,b2=update_params(W1,b1,W2,b2,dW1,db1,dW2,db2,alpha)\n",
    "\n",
    "        if(i%100==0):\n",
    "            print(\"Iterations : \",i)\n",
    "            print(\"Accuracy :\",get_accuracy(get_predictions(A2),Y))\n",
    "\n",
    "    return W1,b1,W2,b2\n"
   ]
  },
  {
   "cell_type": "code",
   "execution_count": 7,
   "metadata": {},
   "outputs": [
    {
     "name": "stdout",
     "output_type": "stream",
     "text": [
      "Iterations :  0\n",
      "[3 6 3 ... 6 3 6] [9 1 2 ... 4 5 6]\n",
      "Accuracy : 0.1217560975609756\n",
      "Iterations :  100\n",
      "[9 1 9 ... 9 5 6] [9 1 2 ... 4 5 6]\n",
      "Accuracy : 0.6653902439024391\n",
      "Iterations :  200\n",
      "[9 1 9 ... 4 5 6] [9 1 2 ... 4 5 6]\n",
      "Accuracy : 0.7765365853658537\n",
      "Iterations :  300\n",
      "[9 1 9 ... 4 5 6] [9 1 2 ... 4 5 6]\n",
      "Accuracy : 0.8191463414634146\n",
      "Iterations :  400\n",
      "[9 1 9 ... 4 5 6] [9 1 2 ... 4 5 6]\n",
      "Accuracy : 0.8404634146341463\n",
      "Iterations :  500\n",
      "[9 1 9 ... 4 5 6] [9 1 2 ... 4 5 6]\n",
      "Accuracy : 0.8539512195121951\n",
      "Iterations :  600\n",
      "[9 1 9 ... 4 5 6] [9 1 2 ... 4 5 6]\n",
      "Accuracy : 0.8639756097560976\n",
      "Iterations :  700\n",
      "[9 1 9 ... 4 5 6] [9 1 2 ... 4 5 6]\n",
      "Accuracy : 0.8712439024390244\n",
      "Iterations :  800\n",
      "[9 1 9 ... 4 5 6] [9 1 2 ... 4 5 6]\n",
      "Accuracy : 0.8773170731707317\n",
      "Iterations :  900\n",
      "[9 1 9 ... 4 5 6] [9 1 2 ... 4 5 6]\n",
      "Accuracy : 0.8817073170731707\n"
     ]
    }
   ],
   "source": [
    "W1,b1,W2,b2=gradient_descent(X_train,Y_train,1000,0.1)"
   ]
  },
  {
   "cell_type": "code",
   "execution_count": 8,
   "metadata": {},
   "outputs": [],
   "source": [
    "def make_predictions(X, W1, b1, W2, b2):\n",
    "    _, _, _, A2 = forward_prop(W1, b1, W2, b2, X)\n",
    "    predictions = get_predictions(A2)\n",
    "    return predictions\n",
    "\n",
    "def test_prediction(index, W1, b1, W2, b2):\n",
    "    current_image = X_train[:, index, None]\n",
    "    prediction = make_predictions(X_train[:, index, None], W1, b1, W2, b2)\n",
    "    label = Y_train[index]\n",
    "    print(\"Prediction: \", prediction)\n",
    "    print(\"Label: \", label)\n",
    "    \n",
    "    current_image = current_image.reshape((28, 28)) * 255\n",
    "    plt.gray()\n",
    "    plt.imshow(current_image, interpolation='nearest')\n",
    "    plt.show()"
   ]
  },
  {
   "cell_type": "code",
   "execution_count": 21,
   "metadata": {},
   "outputs": [
    {
     "name": "stdout",
     "output_type": "stream",
     "text": [
      "Prediction:  [4]\n",
      "Label:  4\n"
     ]
    },
    {
     "data": {
      "image/png": "[encoded data removed]",
      "text/plain": [
       "<Figure size 640x480 with 1 Axes>"
      ]
     },
     "metadata": {},
     "output_type": "display_data"
    }
   ],
   "source": [
    "test_prediction(10,W1,b1,W2,b2)"
   ]
  }
 ],
 "metadata": {
  "kernelspec": {
   "display_name": "base",
   "language": "python",
   "name": "python3"
  },
  "language_info": {
   "codemirror_mode": {
    "name": "ipython",
    "version": 3
   },
   "file_extension": ".py",
   "mimetype": "text/x-python",
   "name": "python",
   "nbconvert_exporter": "python",
   "pygments_lexer": "ipython3",
   "version": "3.11.7"
  }
 },
 "nbformat": 4,
 "nbformat_minor": 2
}
